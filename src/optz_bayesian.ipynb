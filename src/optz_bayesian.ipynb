{
 "cells": [
  {
   "cell_type": "markdown",
   "id": "49051a92-0199-4b9e-84e6-018e0dea685a",
   "metadata": {},
   "source": [
    "### 📌 Feature Selection Based on XGBoost Feature Importance  \n",
    "According to the **XGBoost Feature Importance** technique, `SW` and `Klogh` do not significantly impact the **Rate of Penetration (ROP)**. Therefore, we exclude these parameters and consider only the following features:  \n",
    "\n",
    "- **`Depth`**: Depth of drilling  \n",
    "- **`WOB`**: Weight on Bit  \n",
    "- **`SURF_RPM`**: Rotation Per Minute (RPM)  \n",
    "- **`PHIF`**: Porosity  \n",
    "- **`VSH`**: Volume of Shale"
   ]
  },
  {
   "cell_type": "code",
   "execution_count": 29,
   "id": "c6c40b2d-7ca3-46ae-ab45-f75d35c044d8",
   "metadata": {},
   "outputs": [],
   "source": [
    "from sklearn.model_selection import train_test_split\n",
    "import numpy as np\n",
    "import pandas as pd\n",
    "from sklearn.metrics import mean_squared_error, mean_absolute_error, r2_score\n",
    "from sklearn.preprocessing import StandardScaler"
   ]
  },
  {
   "cell_type": "code",
   "execution_count": 45,
   "id": "9237dbde-0623-4222-8114-61ca3c999464",
   "metadata": {},
   "outputs": [],
   "source": [
    "data = pd.read_csv(\"dataset_1.csv\")"
   ]
  },
  {
   "cell_type": "code",
   "execution_count": 47,
   "id": "d470675d-b578-493c-b9f7-395a7939c93a",
   "metadata": {},
   "outputs": [
    {
     "data": {
      "text/html": [
       "<div>\n",
       "<style scoped>\n",
       "    .dataframe tbody tr th:only-of-type {\n",
       "        vertical-align: middle;\n",
       "    }\n",
       "\n",
       "    .dataframe tbody tr th {\n",
       "        vertical-align: top;\n",
       "    }\n",
       "\n",
       "    .dataframe thead th {\n",
       "        text-align: right;\n",
       "    }\n",
       "</style>\n",
       "<table border=\"1\" class=\"dataframe\">\n",
       "  <thead>\n",
       "    <tr style=\"text-align: right;\">\n",
       "      <th></th>\n",
       "      <th>Depth</th>\n",
       "      <th>WOB</th>\n",
       "      <th>SURF_RPM</th>\n",
       "      <th>ROP_AVG</th>\n",
       "      <th>PHIF</th>\n",
       "      <th>VSH</th>\n",
       "      <th>SW</th>\n",
       "      <th>KLOGH</th>\n",
       "    </tr>\n",
       "  </thead>\n",
       "  <tbody>\n",
       "    <tr>\n",
       "      <th>count</th>\n",
       "      <td>151.000000</td>\n",
       "      <td>151.000000</td>\n",
       "      <td>151.000000</td>\n",
       "      <td>151.000000</td>\n",
       "      <td>151.000000</td>\n",
       "      <td>151.000000</td>\n",
       "      <td>151.000000</td>\n",
       "      <td>151.000000</td>\n",
       "    </tr>\n",
       "    <tr>\n",
       "      <th>mean</th>\n",
       "      <td>3697.417219</td>\n",
       "      <td>45393.934391</td>\n",
       "      <td>2.034981</td>\n",
       "      <td>0.007800</td>\n",
       "      <td>0.084423</td>\n",
       "      <td>0.299809</td>\n",
       "      <td>0.975579</td>\n",
       "      <td>37.072228</td>\n",
       "    </tr>\n",
       "    <tr>\n",
       "      <th>std</th>\n",
       "      <td>227.169433</td>\n",
       "      <td>15784.246882</td>\n",
       "      <td>0.208492</td>\n",
       "      <td>0.001476</td>\n",
       "      <td>0.068230</td>\n",
       "      <td>0.264596</td>\n",
       "      <td>0.108946</td>\n",
       "      <td>127.186210</td>\n",
       "    </tr>\n",
       "    <tr>\n",
       "      <th>min</th>\n",
       "      <td>3305.000000</td>\n",
       "      <td>16961.916000</td>\n",
       "      <td>1.314720</td>\n",
       "      <td>0.002666</td>\n",
       "      <td>0.002968</td>\n",
       "      <td>0.049451</td>\n",
       "      <td>0.351393</td>\n",
       "      <td>-0.001124</td>\n",
       "    </tr>\n",
       "    <tr>\n",
       "      <th>25%</th>\n",
       "      <td>3502.500000</td>\n",
       "      <td>34320.946500</td>\n",
       "      <td>1.998711</td>\n",
       "      <td>0.007368</td>\n",
       "      <td>0.037550</td>\n",
       "      <td>0.108539</td>\n",
       "      <td>1.000000</td>\n",
       "      <td>0.001000</td>\n",
       "    </tr>\n",
       "    <tr>\n",
       "      <th>50%</th>\n",
       "      <td>3700.000000</td>\n",
       "      <td>44243.480000</td>\n",
       "      <td>1.999697</td>\n",
       "      <td>0.008157</td>\n",
       "      <td>0.059274</td>\n",
       "      <td>0.193100</td>\n",
       "      <td>1.000000</td>\n",
       "      <td>0.001000</td>\n",
       "    </tr>\n",
       "    <tr>\n",
       "      <th>75%</th>\n",
       "      <td>3887.500000</td>\n",
       "      <td>53212.685000</td>\n",
       "      <td>2.001069</td>\n",
       "      <td>0.008760</td>\n",
       "      <td>0.097212</td>\n",
       "      <td>0.387664</td>\n",
       "      <td>1.000000</td>\n",
       "      <td>0.001000</td>\n",
       "    </tr>\n",
       "    <tr>\n",
       "      <th>max</th>\n",
       "      <td>4085.000000</td>\n",
       "      <td>97087.882000</td>\n",
       "      <td>2.639233</td>\n",
       "      <td>0.010447</td>\n",
       "      <td>0.279346</td>\n",
       "      <td>1.000000</td>\n",
       "      <td>1.013335</td>\n",
       "      <td>709.158935</td>\n",
       "    </tr>\n",
       "  </tbody>\n",
       "</table>\n",
       "</div>"
      ],
      "text/plain": [
       "             Depth           WOB    SURF_RPM     ROP_AVG        PHIF  \\\n",
       "count   151.000000    151.000000  151.000000  151.000000  151.000000   \n",
       "mean   3697.417219  45393.934391    2.034981    0.007800    0.084423   \n",
       "std     227.169433  15784.246882    0.208492    0.001476    0.068230   \n",
       "min    3305.000000  16961.916000    1.314720    0.002666    0.002968   \n",
       "25%    3502.500000  34320.946500    1.998711    0.007368    0.037550   \n",
       "50%    3700.000000  44243.480000    1.999697    0.008157    0.059274   \n",
       "75%    3887.500000  53212.685000    2.001069    0.008760    0.097212   \n",
       "max    4085.000000  97087.882000    2.639233    0.010447    0.279346   \n",
       "\n",
       "              VSH          SW       KLOGH  \n",
       "count  151.000000  151.000000  151.000000  \n",
       "mean     0.299809    0.975579   37.072228  \n",
       "std      0.264596    0.108946  127.186210  \n",
       "min      0.049451    0.351393   -0.001124  \n",
       "25%      0.108539    1.000000    0.001000  \n",
       "50%      0.193100    1.000000    0.001000  \n",
       "75%      0.387664    1.000000    0.001000  \n",
       "max      1.000000    1.013335  709.158935  "
      ]
     },
     "execution_count": 47,
     "metadata": {},
     "output_type": "execute_result"
    }
   ],
   "source": [
    "data.describe()"
   ]
  },
  {
   "cell_type": "code",
   "execution_count": 49,
   "id": "22e990fa-9b68-42b2-a8be-b3c89d541cc2",
   "metadata": {},
   "outputs": [],
   "source": [
    "#target = \"ROP_AVG\"\n",
    "X = data[[\"Depth\", \"WOB\", \"SURF_RPM\", \"PHIF\", \"VSH\"]]\n",
    "y = data[\"ROP_AVG\"]"
   ]
  },
  {
   "cell_type": "code",
   "execution_count": 51,
   "id": "e2f4013f-0931-4234-878a-60cdccceb5ff",
   "metadata": {},
   "outputs": [],
   "source": [
    "X_train, X_test, y_train, y_test = train_test_split(X, y, test_size=0.2)"
   ]
  },
  {
   "cell_type": "code",
   "execution_count": 53,
   "id": "90e175ce-3f07-4cae-ad6d-9335ff4fffa2",
   "metadata": {},
   "outputs": [],
   "source": [
    "# Normalize/Standardize data\n",
    "scaler = StandardScaler()\n",
    "X_train = scaler.fit_transform(X_train)\n",
    "X_test = scaler.transform(X_test)"
   ]
  },
  {
   "cell_type": "code",
   "execution_count": 55,
   "id": "0fcf0261-acbc-4baf-aa8d-11bbde557f47",
   "metadata": {},
   "outputs": [],
   "source": [
    "from xgboost import XGBRegressor"
   ]
  },
  {
   "cell_type": "code",
   "execution_count": 57,
   "id": "ef2f0ad7-5eca-4888-a915-04de0a2003ce",
   "metadata": {},
   "outputs": [],
   "source": [
    "# Train an XGBoost surrogate model\n",
    "surrogate_model = XGBRegressor(n_estimators=100, random_state=42)\n",
    "surrogate_model.fit(X_train, y_train)\n",
    "\n",
    "# Define the objective function for Bayesian Optimization\n",
    "def objective_function(Depth, WOB, SURF_RPM, PHIF, VSH):\n",
    "    # Scale the input\n",
    "    X_new = scaler.transform([[Depth, WOB, SURF_RPM, PHIF, VSH]])\n",
    "    # Predict ROP_AVG using the XGBoost model\n",
    "    rop = surrogate_model.predict(X_new)\n",
    "    return rop[0]  # Return the predicted ROP_AVG"
   ]
  },
  {
   "cell_type": "code",
   "execution_count": 61,
   "id": "2b07d99a-b2dd-4283-9b0f-05ce775d125c",
   "metadata": {},
   "outputs": [
    {
     "name": "stdout",
     "output_type": "stream",
     "text": [
      "Collecting bayesian-optimization\n",
      "  Downloading bayesian_optimization-2.0.3-py3-none-any.whl.metadata (9.0 kB)\n",
      "Requirement already satisfied: colorama<0.5.0,>=0.4.6 in c:\\users\\user\\anaconda3\\lib\\site-packages (from bayesian-optimization) (0.4.6)\n",
      "Requirement already satisfied: numpy>=1.25 in c:\\users\\user\\anaconda3\\lib\\site-packages (from bayesian-optimization) (1.26.4)\n",
      "Requirement already satisfied: scikit-learn<2.0.0,>=1.0.0 in c:\\users\\user\\anaconda3\\lib\\site-packages (from bayesian-optimization) (1.4.2)\n",
      "Requirement already satisfied: scipy<2.0.0,>=1.0.0 in c:\\users\\user\\anaconda3\\lib\\site-packages (from bayesian-optimization) (1.13.1)\n",
      "Requirement already satisfied: joblib>=1.2.0 in c:\\users\\user\\anaconda3\\lib\\site-packages (from scikit-learn<2.0.0,>=1.0.0->bayesian-optimization) (1.4.2)\n",
      "Requirement already satisfied: threadpoolctl>=2.0.0 in c:\\users\\user\\anaconda3\\lib\\site-packages (from scikit-learn<2.0.0,>=1.0.0->bayesian-optimization) (2.2.0)\n",
      "Downloading bayesian_optimization-2.0.3-py3-none-any.whl (31 kB)\n",
      "Installing collected packages: bayesian-optimization\n",
      "Successfully installed bayesian-optimization-2.0.3\n",
      "Note: you may need to restart the kernel to use updated packages.\n"
     ]
    }
   ],
   "source": [
    "pip install bayesian-optimization"
   ]
  },
  {
   "cell_type": "code",
   "execution_count": 63,
   "id": "d687c6ee-cbb1-46a2-bb52-57918abdfb95",
   "metadata": {},
   "outputs": [],
   "source": [
    "from bayes_opt import BayesianOptimization"
   ]
  },
  {
   "cell_type": "code",
   "execution_count": 65,
   "id": "57d5c1cd-670c-4771-88d1-74960d2edd34",
   "metadata": {},
   "outputs": [],
   "source": [
    "# Define parameter bounds for Bayesian Optimization\n",
    "pbounds = {\n",
    "    \"Depth\": (data[\"Depth\"].min(), data[\"Depth\"].max()),  # Bounds for Depth\n",
    "    \"WOB\": (data[\"WOB\"].min(), data[\"WOB\"].max()),        # Bounds for WOB\n",
    "    \"SURF_RPM\": (data[\"SURF_RPM\"].min(), data[\"SURF_RPM\"].max()),  # Bounds for SURF_RPM\n",
    "    \"PHIF\": (data[\"PHIF\"].min(), data[\"PHIF\"].max()),      # Bounds for PHIF\n",
    "    \"VSH\": (data[\"VSH\"].min(), data[\"VSH\"].max())          # Bounds for VSH\n",
    "}"
   ]
  },
  {
   "cell_type": "code",
   "execution_count": 67,
   "id": "9366343d-a44b-479a-b644-24b5c7ba4d31",
   "metadata": {},
   "outputs": [],
   "source": [
    "# Initialize Bayesian Optimization\n",
    "optimizer = BayesianOptimization(\n",
    "    f=objective_function,\n",
    "    pbounds=pbounds,\n",
    "    random_state=42\n",
    ")"
   ]
  },
  {
   "cell_type": "code",
   "execution_count": 69,
   "id": "5cbde066-22e0-44bb-931d-e8a7dc21f132",
   "metadata": {},
   "outputs": [
    {
     "name": "stdout",
     "output_type": "stream",
     "text": [
      "|   iter    |  target   |   Depth   |   PHIF    | SURF_RPM  |    VSH    |    WOB    |\n",
      "-------------------------------------------------------------------------------------\n",
      "| \u001b[39m1        \u001b[39m | \u001b[39m0.008541 \u001b[39m | \u001b[39m3.597e+03\u001b[39m | \u001b[39m0.2657   \u001b[39m | \u001b[39m2.284    \u001b[39m | \u001b[39m0.6185   \u001b[39m | \u001b[39m2.946e+04\u001b[39m |\n",
      "| \u001b[39m2        \u001b[39m | \u001b[39m0.007122 \u001b[39m | \u001b[39m3.427e+03\u001b[39m | \u001b[39m0.01902  \u001b[39m | \u001b[39m2.462    \u001b[39m | \u001b[39m0.6208   \u001b[39m | \u001b[39m7.37e+04 \u001b[39m |\n",
      "| \u001b[39m3        \u001b[39m | \u001b[39m0.006057 \u001b[39m | \u001b[39m3.321e+03\u001b[39m | \u001b[39m0.271    \u001b[39m | \u001b[39m2.417    \u001b[39m | \u001b[39m0.2513   \u001b[39m | \u001b[39m3.153e+04\u001b[39m |\n",
      "| \u001b[39m4        \u001b[39m | \u001b[39m0.007122 \u001b[39m | \u001b[39m3.448e+03\u001b[39m | \u001b[39m0.08705  \u001b[39m | \u001b[39m2.01     \u001b[39m | \u001b[39m0.46     \u001b[39m | \u001b[39m4.03e+04 \u001b[39m |\n",
      "| \u001b[39m5        \u001b[39m | \u001b[39m0.004326 \u001b[39m | \u001b[39m3.782e+03\u001b[39m | \u001b[39m0.04152  \u001b[39m | \u001b[39m1.702    \u001b[39m | \u001b[39m0.3977   \u001b[39m | \u001b[39m5.35e+04 \u001b[39m |\n"
     ]
    },
    {
     "name": "stderr",
     "output_type": "stream",
     "text": [
      "C:\\Users\\User\\anaconda3\\Lib\\site-packages\\sklearn\\base.py:493: UserWarning: X does not have valid feature names, but StandardScaler was fitted with feature names\n",
      "  warnings.warn(\n",
      "C:\\Users\\User\\anaconda3\\Lib\\site-packages\\sklearn\\base.py:493: UserWarning: X does not have valid feature names, but StandardScaler was fitted with feature names\n",
      "  warnings.warn(\n",
      "C:\\Users\\User\\anaconda3\\Lib\\site-packages\\sklearn\\base.py:493: UserWarning: X does not have valid feature names, but StandardScaler was fitted with feature names\n",
      "  warnings.warn(\n",
      "C:\\Users\\User\\anaconda3\\Lib\\site-packages\\sklearn\\base.py:493: UserWarning: X does not have valid feature names, but StandardScaler was fitted with feature names\n",
      "  warnings.warn(\n",
      "C:\\Users\\User\\anaconda3\\Lib\\site-packages\\sklearn\\base.py:493: UserWarning: X does not have valid feature names, but StandardScaler was fitted with feature names\n",
      "  warnings.warn(\n",
      "C:\\Users\\User\\anaconda3\\Lib\\site-packages\\sklearn\\base.py:493: UserWarning: X does not have valid feature names, but StandardScaler was fitted with feature names\n",
      "  warnings.warn(\n",
      "C:\\Users\\User\\anaconda3\\Lib\\site-packages\\sklearn\\base.py:493: UserWarning: X does not have valid feature names, but StandardScaler was fitted with feature names\n",
      "  warnings.warn(\n"
     ]
    },
    {
     "name": "stdout",
     "output_type": "stream",
     "text": [
      "| \u001b[39m6        \u001b[39m | \u001b[39m0.004326 \u001b[39m | \u001b[39m3.607e+03\u001b[39m | \u001b[39m0.194    \u001b[39m | \u001b[39m1.657    \u001b[39m | \u001b[39m0.8403   \u001b[39m | \u001b[39m6.582e+04\u001b[39m |\n",
      "| \u001b[39m7        \u001b[39m | \u001b[39m0.004326 \u001b[39m | \u001b[39m4.012e+03\u001b[39m | \u001b[39m0.03209  \u001b[39m | \u001b[39m1.51     \u001b[39m | \u001b[39m0.929    \u001b[39m | \u001b[39m7.872e+04\u001b[39m |\n"
     ]
    },
    {
     "name": "stderr",
     "output_type": "stream",
     "text": [
      "C:\\Users\\User\\anaconda3\\Lib\\site-packages\\sklearn\\base.py:493: UserWarning: X does not have valid feature names, but StandardScaler was fitted with feature names\n",
      "  warnings.warn(\n",
      "C:\\Users\\User\\anaconda3\\Lib\\site-packages\\sklearn\\base.py:493: UserWarning: X does not have valid feature names, but StandardScaler was fitted with feature names\n",
      "  warnings.warn(\n"
     ]
    },
    {
     "name": "stdout",
     "output_type": "stream",
     "text": [
      "| \u001b[39m8        \u001b[39m | \u001b[39m0.004326 \u001b[39m | \u001b[39m3.761e+03\u001b[39m | \u001b[39m0.01617  \u001b[39m | \u001b[39m1.362    \u001b[39m | \u001b[39m0.1488   \u001b[39m | \u001b[39m3.565e+04\u001b[39m |\n",
      "| \u001b[39m9        \u001b[39m | \u001b[39m0.008541 \u001b[39m | \u001b[39m3.586e+03\u001b[39m | \u001b[39m0.0168   \u001b[39m | \u001b[39m2.534    \u001b[39m | \u001b[39m0.9481   \u001b[39m | \u001b[39m2.924e+04\u001b[39m |\n"
     ]
    },
    {
     "name": "stderr",
     "output_type": "stream",
     "text": [
      "C:\\Users\\User\\anaconda3\\Lib\\site-packages\\sklearn\\base.py:493: UserWarning: X does not have valid feature names, but StandardScaler was fitted with feature names\n",
      "  warnings.warn(\n",
      "C:\\Users\\User\\anaconda3\\Lib\\site-packages\\sklearn\\base.py:493: UserWarning: X does not have valid feature names, but StandardScaler was fitted with feature names\n",
      "  warnings.warn(\n"
     ]
    },
    {
     "name": "stdout",
     "output_type": "stream",
     "text": [
      "| \u001b[39m10       \u001b[39m | \u001b[39m0.004326 \u001b[39m | \u001b[39m4.031e+03\u001b[39m | \u001b[39m0.2006   \u001b[39m | \u001b[39m1.701    \u001b[39m | \u001b[39m0.2915   \u001b[39m | \u001b[39m2.604e+04\u001b[39m |\n",
      "| \u001b[39m11       \u001b[39m | \u001b[39m0.008541 \u001b[39m | \u001b[39m3.601e+03\u001b[39m | \u001b[39m0.1435   \u001b[39m | \u001b[39m2.59     \u001b[39m | \u001b[39m0.7761   \u001b[39m | \u001b[39m2.924e+04\u001b[39m |\n"
     ]
    },
    {
     "name": "stderr",
     "output_type": "stream",
     "text": [
      "C:\\Users\\User\\anaconda3\\Lib\\site-packages\\sklearn\\base.py:493: UserWarning: X does not have valid feature names, but StandardScaler was fitted with feature names\n",
      "  warnings.warn(\n",
      "C:\\Users\\User\\anaconda3\\Lib\\site-packages\\sklearn\\base.py:493: UserWarning: X does not have valid feature names, but StandardScaler was fitted with feature names\n",
      "  warnings.warn(\n"
     ]
    },
    {
     "name": "stdout",
     "output_type": "stream",
     "text": [
      "| \u001b[39m12       \u001b[39m | \u001b[39m0.007508 \u001b[39m | \u001b[39m3.343e+03\u001b[39m | \u001b[39m0.192    \u001b[39m | \u001b[39m1.38     \u001b[39m | \u001b[39m0.7715   \u001b[39m | \u001b[39m4.379e+04\u001b[39m |\n",
      "| \u001b[39m13       \u001b[39m | \u001b[39m0.008195 \u001b[39m | \u001b[39m4.06e+03 \u001b[39m | \u001b[39m0.2165   \u001b[39m | \u001b[39m1.927    \u001b[39m | \u001b[39m0.9232   \u001b[39m | \u001b[39m4.696e+04\u001b[39m |\n"
     ]
    },
    {
     "name": "stderr",
     "output_type": "stream",
     "text": [
      "C:\\Users\\User\\anaconda3\\Lib\\site-packages\\sklearn\\base.py:493: UserWarning: X does not have valid feature names, but StandardScaler was fitted with feature names\n",
      "  warnings.warn(\n",
      "C:\\Users\\User\\anaconda3\\Lib\\site-packages\\sklearn\\base.py:493: UserWarning: X does not have valid feature names, but StandardScaler was fitted with feature names\n",
      "  warnings.warn(\n"
     ]
    },
    {
     "name": "stdout",
     "output_type": "stream",
     "text": [
      "| \u001b[39m14       \u001b[39m | \u001b[39m0.007122 \u001b[39m | \u001b[39m3.395e+03\u001b[39m | \u001b[39m0.1882   \u001b[39m | \u001b[39m2.176    \u001b[39m | \u001b[39m0.799    \u001b[39m | \u001b[39m9.708e+04\u001b[39m |\n",
      "| \u001b[39m15       \u001b[39m | \u001b[39m0.004326 \u001b[39m | \u001b[39m4.053e+03\u001b[39m | \u001b[39m0.04171  \u001b[39m | \u001b[39m1.393    \u001b[39m | \u001b[39m0.09009  \u001b[39m | \u001b[39m9.289e+04\u001b[39m |\n"
     ]
    },
    {
     "name": "stderr",
     "output_type": "stream",
     "text": [
      "C:\\Users\\User\\anaconda3\\Lib\\site-packages\\sklearn\\base.py:493: UserWarning: X does not have valid feature names, but StandardScaler was fitted with feature names\n",
      "  warnings.warn(\n",
      "C:\\Users\\User\\anaconda3\\Lib\\site-packages\\sklearn\\base.py:493: UserWarning: X does not have valid feature names, but StandardScaler was fitted with feature names\n",
      "  warnings.warn(\n",
      "C:\\Users\\User\\anaconda3\\Lib\\site-packages\\sklearn\\base.py:493: UserWarning: X does not have valid feature names, but StandardScaler was fitted with feature names\n",
      "  warnings.warn(\n",
      "C:\\Users\\User\\anaconda3\\Lib\\site-packages\\sklearn\\base.py:493: UserWarning: X does not have valid feature names, but StandardScaler was fitted with feature names\n",
      "  warnings.warn(\n"
     ]
    },
    {
     "name": "stdout",
     "output_type": "stream",
     "text": [
      "| \u001b[39m16       \u001b[39m | \u001b[39m0.005866 \u001b[39m | \u001b[39m3.311e+03\u001b[39m | \u001b[39m0.1178   \u001b[39m | \u001b[39m2.371    \u001b[39m | \u001b[39m0.7332   \u001b[39m | \u001b[39m4.908e+04\u001b[39m |\n",
      "| \u001b[39m17       \u001b[39m | \u001b[39m0.004326 \u001b[39m | \u001b[39m3.582e+03\u001b[39m | \u001b[39m0.2192   \u001b[39m | \u001b[39m1.546    \u001b[39m | \u001b[39m0.9808   \u001b[39m | \u001b[39m2.923e+04\u001b[39m |\n",
      "| \u001b[39m18       \u001b[39m | \u001b[39m0.007122 \u001b[39m | \u001b[39m3.443e+03\u001b[39m | \u001b[39m0.2038   \u001b[39m | \u001b[39m2.434    \u001b[39m | \u001b[39m0.2116   \u001b[39m | \u001b[39m4.031e+04\u001b[39m |\n",
      "| \u001b[39m19       \u001b[39m | \u001b[39m0.007122 \u001b[39m | \u001b[39m3.354e+03\u001b[39m | \u001b[39m0.1314   \u001b[39m | \u001b[39m2.511    \u001b[39m | \u001b[39m0.09935  \u001b[39m | \u001b[39m4.378e+04\u001b[39m |\n"
     ]
    },
    {
     "name": "stderr",
     "output_type": "stream",
     "text": [
      "C:\\Users\\User\\anaconda3\\Lib\\site-packages\\sklearn\\base.py:493: UserWarning: X does not have valid feature names, but StandardScaler was fitted with feature names\n",
      "  warnings.warn(\n",
      "C:\\Users\\User\\anaconda3\\Lib\\site-packages\\sklearn\\base.py:493: UserWarning: X does not have valid feature names, but StandardScaler was fitted with feature names\n",
      "  warnings.warn(\n",
      "C:\\Users\\User\\anaconda3\\Lib\\site-packages\\sklearn\\base.py:493: UserWarning: X does not have valid feature names, but StandardScaler was fitted with feature names\n",
      "  warnings.warn(\n"
     ]
    },
    {
     "name": "stdout",
     "output_type": "stream",
     "text": [
      "| \u001b[35m20       \u001b[39m | \u001b[35m0.008605 \u001b[39m | \u001b[35m3.979e+03\u001b[39m | \u001b[35m0.1611   \u001b[39m | \u001b[35m1.866    \u001b[39m | \u001b[35m0.2236   \u001b[39m | \u001b[35m3.951e+04\u001b[39m |\n",
      "| \u001b[39m21       \u001b[39m | \u001b[39m0.008058 \u001b[39m | \u001b[39m3.35e+03 \u001b[39m | \u001b[39m0.2094   \u001b[39m | \u001b[39m2.162    \u001b[39m | \u001b[39m0.7318   \u001b[39m | \u001b[39m4.378e+04\u001b[39m |\n",
      "| \u001b[39m22       \u001b[39m | \u001b[39m0.008605 \u001b[39m | \u001b[39m3.986e+03\u001b[39m | \u001b[39m0.06334  \u001b[39m | \u001b[39m2.29     \u001b[39m | \u001b[39m0.07578  \u001b[39m | \u001b[39m3.953e+04\u001b[39m |\n"
     ]
    },
    {
     "name": "stderr",
     "output_type": "stream",
     "text": [
      "C:\\Users\\User\\anaconda3\\Lib\\site-packages\\sklearn\\base.py:493: UserWarning: X does not have valid feature names, but StandardScaler was fitted with feature names\n",
      "  warnings.warn(\n",
      "C:\\Users\\User\\anaconda3\\Lib\\site-packages\\sklearn\\base.py:493: UserWarning: X does not have valid feature names, but StandardScaler was fitted with feature names\n",
      "  warnings.warn(\n",
      "C:\\Users\\User\\anaconda3\\Lib\\site-packages\\sklearn\\base.py:493: UserWarning: X does not have valid feature names, but StandardScaler was fitted with feature names\n",
      "  warnings.warn(\n"
     ]
    },
    {
     "name": "stdout",
     "output_type": "stream",
     "text": [
      "| \u001b[39m23       \u001b[39m | \u001b[39m0.007122 \u001b[39m | \u001b[39m3.441e+03\u001b[39m | \u001b[39m0.02668  \u001b[39m | \u001b[39m2.132    \u001b[39m | \u001b[39m0.7274   \u001b[39m | \u001b[39m7.37e+04 \u001b[39m |\n",
      "| \u001b[39m24       \u001b[39m | \u001b[39m0.008605 \u001b[39m | \u001b[39m3.623e+03\u001b[39m | \u001b[39m0.08379  \u001b[39m | \u001b[39m2.408    \u001b[39m | \u001b[39m0.3569   \u001b[39m | \u001b[39m2.945e+04\u001b[39m |\n",
      "| \u001b[39m25       \u001b[39m | \u001b[39m0.004326 \u001b[39m | \u001b[39m3.997e+03\u001b[39m | \u001b[39m0.0631   \u001b[39m | \u001b[39m1.394    \u001b[39m | \u001b[39m0.8866   \u001b[39m | \u001b[39m3.953e+04\u001b[39m |\n"
     ]
    },
    {
     "name": "stderr",
     "output_type": "stream",
     "text": [
      "C:\\Users\\User\\anaconda3\\Lib\\site-packages\\sklearn\\base.py:493: UserWarning: X does not have valid feature names, but StandardScaler was fitted with feature names\n",
      "  warnings.warn(\n",
      "C:\\Users\\User\\anaconda3\\Lib\\site-packages\\sklearn\\base.py:493: UserWarning: X does not have valid feature names, but StandardScaler was fitted with feature names\n",
      "  warnings.warn(\n"
     ]
    },
    {
     "name": "stdout",
     "output_type": "stream",
     "text": [
      "| \u001b[39m26       \u001b[39m | \u001b[39m0.008195 \u001b[39m | \u001b[39m4.068e+03\u001b[39m | \u001b[39m0.2632   \u001b[39m | \u001b[39m2.559    \u001b[39m | \u001b[39m0.4813   \u001b[39m | \u001b[39m4.697e+04\u001b[39m |\n",
      "| \u001b[39m27       \u001b[39m | \u001b[39m0.007122 \u001b[39m | \u001b[39m3.402e+03\u001b[39m | \u001b[39m0.2604   \u001b[39m | \u001b[39m2.336    \u001b[39m | \u001b[39m0.5368   \u001b[39m | \u001b[39m9.708e+04\u001b[39m |\n"
     ]
    },
    {
     "name": "stderr",
     "output_type": "stream",
     "text": [
      "C:\\Users\\User\\anaconda3\\Lib\\site-packages\\sklearn\\base.py:493: UserWarning: X does not have valid feature names, but StandardScaler was fitted with feature names\n",
      "  warnings.warn(\n",
      "C:\\Users\\User\\anaconda3\\Lib\\site-packages\\sklearn\\base.py:493: UserWarning: X does not have valid feature names, but StandardScaler was fitted with feature names\n",
      "  warnings.warn(\n"
     ]
    },
    {
     "name": "stdout",
     "output_type": "stream",
     "text": [
      "| \u001b[39m28       \u001b[39m | \u001b[39m0.008541 \u001b[39m | \u001b[39m3.607e+03\u001b[39m | \u001b[39m0.08267  \u001b[39m | \u001b[39m2.04     \u001b[39m | \u001b[39m0.1528   \u001b[39m | \u001b[39m2.923e+04\u001b[39m |\n",
      "| \u001b[39m29       \u001b[39m | \u001b[39m0.008605 \u001b[39m | \u001b[39m3.812e+03\u001b[39m | \u001b[39m0.2383   \u001b[39m | \u001b[39m1.813    \u001b[39m | \u001b[39m0.964    \u001b[39m | \u001b[39m3.375e+04\u001b[39m |\n",
      "| \u001b[39m30       \u001b[39m | \u001b[39m0.008605 \u001b[39m | \u001b[39m3.994e+03\u001b[39m | \u001b[39m0.1874   \u001b[39m | \u001b[39m1.836    \u001b[39m | \u001b[39m0.2015   \u001b[39m | \u001b[39m3.949e+04\u001b[39m |\n",
      "=====================================================================================\n",
      "Best Parameters: {'target': 0.008605283685028553, 'params': {'Depth': 3978.827820487244, 'PHIF': 0.1610870462271162, 'SURF_RPM': 1.8660667076689712, 'VSH': 0.2236417294718831, 'WOB': 39513.85444566769}}\n"
     ]
    },
    {
     "name": "stderr",
     "output_type": "stream",
     "text": [
      "C:\\Users\\User\\anaconda3\\Lib\\site-packages\\sklearn\\base.py:493: UserWarning: X does not have valid feature names, but StandardScaler was fitted with feature names\n",
      "  warnings.warn(\n"
     ]
    }
   ],
   "source": [
    " # Run optimization\n",
    "optimizer.maximize(init_points=5, n_iter=25)  # Adjust init_points and n_iter as needed\n",
    "\n",
    "# Get the best parameters\n",
    "best_params = optimizer.max\n",
    "print(\"Best Parameters:\", best_params)"
   ]
  },
  {
   "cell_type": "code",
   "execution_count": 71,
   "id": "f7d2561c-d520-4cda-a1db-dd5384427af1",
   "metadata": {},
   "outputs": [
    {
     "name": "stdout",
     "output_type": "stream",
     "text": [
      "Optimized ROP_AVG: 0.008605284\n"
     ]
    },
    {
     "name": "stderr",
     "output_type": "stream",
     "text": [
      "C:\\Users\\User\\anaconda3\\Lib\\site-packages\\sklearn\\base.py:493: UserWarning: X does not have valid feature names, but StandardScaler was fitted with feature names\n",
      "  warnings.warn(\n"
     ]
    }
   ],
   "source": [
    "# Evaluate the best parameters on the test set\n",
    "best_rop = objective_function(**best_params[\"params\"])\n",
    "print(\"Optimized ROP_AVG:\", best_rop)"
   ]
  },
  {
   "cell_type": "code",
   "execution_count": 74,
   "id": "68dddefa-8e25-4692-adf7-5ee321f9df63",
   "metadata": {},
   "outputs": [
    {
     "name": "stdout",
     "output_type": "stream",
     "text": [
      "Baseline ROP_AVG: 0.00779683\n"
     ]
    }
   ],
   "source": [
    "# Compare with baseline performance\n",
    "baseline_rop = surrogate_model.predict(X_test).mean()\n",
    "print(\"Baseline ROP_AVG:\", baseline_rop)"
   ]
  },
  {
   "cell_type": "markdown",
   "id": "1e0e40a3-b41a-40e1-bea3-f6d84c244206",
   "metadata": {},
   "source": [
    "---\n",
    "The **magnitude of improvement** on ROP_AVG is calculated as follows:\n",
    "\n",
    "- **Improvement** = Optimized ROP_AVG - Baseline ROP_AVG  \n",
    "  \\( 0.008605284 - 0.00779683 = 0.000808454 \\)\n",
    "\n",
    "- **Percentage Improvement** = \\( \\frac{{\\text{Improvement}}}{{\\text{Baseline ROP_AVG}}} \\times 100 \\)  \n",
    "  \\( \\frac{{0.000808454}}{{0.00779683}} \\times 100 \\approx 10.4\\% \\)\n",
    "\n",
    "A **10.4% improvement** is considered significant, especially in industrial applications like drilling, where even small improvements can lead to **substantial cost savings** or **efficiency gains** over time. However, to ensure robustness, we will also compare the results of **Bayesian Optimization** with other **optimization techniques**\n",
    "\n",
    "---"
   ]
  },
  {
   "cell_type": "code",
   "execution_count": null,
   "id": "a6781a90-76c8-4d3c-a798-1ac79a248d54",
   "metadata": {},
   "outputs": [],
   "source": []
  }
 ],
 "metadata": {
  "kernelspec": {
   "display_name": "Python 3 (ipykernel)",
   "language": "python",
   "name": "python3"
  },
  "language_info": {
   "codemirror_mode": {
    "name": "ipython",
    "version": 3
   },
   "file_extension": ".py",
   "mimetype": "text/x-python",
   "name": "python",
   "nbconvert_exporter": "python",
   "pygments_lexer": "ipython3",
   "version": "3.9.21"
  }
 },
 "nbformat": 4,
 "nbformat_minor": 5
}
